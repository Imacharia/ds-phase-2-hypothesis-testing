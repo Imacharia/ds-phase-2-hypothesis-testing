{
 "cells": [
  {
   "cell_type": "markdown",
   "id": "517ef1c9",
   "metadata": {},
   "source": [
    "# Chemsha Bongo; Hypothesis Testing "
   ]
  },
  {
   "cell_type": "markdown",
   "id": "2f2a112e",
   "metadata": {},
   "source": [
    "Using the  ```Wine Quality Dataset```, test the claim that Wines with a higher quality rating have a higher median alcohol content than wines with a lower quality rating."
   ]
  },
  {
   "cell_type": "markdown",
   "id": "3bb702a6",
   "metadata": {},
   "source": [
    "#### Importing relevant packages"
   ]
  },
  {
   "cell_type": "code",
   "execution_count": 1,
   "id": "f4c14ae6",
   "metadata": {},
   "outputs": [],
   "source": [
    "import numpy as np\n",
    "import pandas as pd\n",
    "import seaborn as sns\n",
    "import matplotlib.pyplot as plt\n",
    "from scipy import stats\n",
    "from scipy.stats import ttest_ind\n",
    "from scipy.stats import median_test"
   ]
  },
  {
   "cell_type": "markdown",
   "id": "9274f037",
   "metadata": {},
   "source": [
    "# Scientific Question"
   ]
  },
  {
   "cell_type": "markdown",
   "id": "76c30c48",
   "metadata": {},
   "source": [
    "##### What is the relationship between wine quality rating and median alcohol content in the Wine Quality Dataset, and is there evidence to support the claim that wines with a higher quality rating have a higher median alcohol content than wines with a lower quality rating?"
   ]
  },
  {
   "cell_type": "markdown",
   "id": "f32e83d2",
   "metadata": {},
   "source": [
    "### Data Understanding"
   ]
  },
  {
   "cell_type": "markdown",
   "id": "2abaa628",
   "metadata": {},
   "source": [
    "#### Reading the data"
   ]
  },
  {
   "cell_type": "code",
   "execution_count": 4,
   "id": "a478ef56",
   "metadata": {},
   "outputs": [
    {
     "data": {
      "text/html": [
       "<div>\n",
       "<style scoped>\n",
       "    .dataframe tbody tr th:only-of-type {\n",
       "        vertical-align: middle;\n",
       "    }\n",
       "\n",
       "    .dataframe tbody tr th {\n",
       "        vertical-align: top;\n",
       "    }\n",
       "\n",
       "    .dataframe thead th {\n",
       "        text-align: right;\n",
       "    }\n",
       "</style>\n",
       "<table border=\"1\" class=\"dataframe\">\n",
       "  <thead>\n",
       "    <tr style=\"text-align: right;\">\n",
       "      <th></th>\n",
       "      <th>fixed acidity</th>\n",
       "      <th>volatile acidity</th>\n",
       "      <th>citric acid</th>\n",
       "      <th>residual sugar</th>\n",
       "      <th>chlorides</th>\n",
       "      <th>free sulfur dioxide</th>\n",
       "      <th>total sulfur dioxide</th>\n",
       "      <th>density</th>\n",
       "      <th>pH</th>\n",
       "      <th>sulphates</th>\n",
       "      <th>alcohol</th>\n",
       "      <th>quality</th>\n",
       "    </tr>\n",
       "  </thead>\n",
       "  <tbody>\n",
       "    <tr>\n",
       "      <th>0</th>\n",
       "      <td>7.0</td>\n",
       "      <td>0.27</td>\n",
       "      <td>0.36</td>\n",
       "      <td>20.7</td>\n",
       "      <td>0.045</td>\n",
       "      <td>45.0</td>\n",
       "      <td>170.0</td>\n",
       "      <td>1.00100</td>\n",
       "      <td>3.00</td>\n",
       "      <td>0.45</td>\n",
       "      <td>8.8</td>\n",
       "      <td>6</td>\n",
       "    </tr>\n",
       "    <tr>\n",
       "      <th>1</th>\n",
       "      <td>6.3</td>\n",
       "      <td>0.30</td>\n",
       "      <td>0.34</td>\n",
       "      <td>1.6</td>\n",
       "      <td>0.049</td>\n",
       "      <td>14.0</td>\n",
       "      <td>132.0</td>\n",
       "      <td>0.99400</td>\n",
       "      <td>3.30</td>\n",
       "      <td>0.49</td>\n",
       "      <td>9.5</td>\n",
       "      <td>6</td>\n",
       "    </tr>\n",
       "    <tr>\n",
       "      <th>2</th>\n",
       "      <td>8.1</td>\n",
       "      <td>0.28</td>\n",
       "      <td>0.40</td>\n",
       "      <td>6.9</td>\n",
       "      <td>0.050</td>\n",
       "      <td>30.0</td>\n",
       "      <td>97.0</td>\n",
       "      <td>0.99510</td>\n",
       "      <td>3.26</td>\n",
       "      <td>0.44</td>\n",
       "      <td>10.1</td>\n",
       "      <td>6</td>\n",
       "    </tr>\n",
       "    <tr>\n",
       "      <th>3</th>\n",
       "      <td>7.2</td>\n",
       "      <td>0.23</td>\n",
       "      <td>0.32</td>\n",
       "      <td>8.5</td>\n",
       "      <td>0.058</td>\n",
       "      <td>47.0</td>\n",
       "      <td>186.0</td>\n",
       "      <td>0.99560</td>\n",
       "      <td>3.19</td>\n",
       "      <td>0.40</td>\n",
       "      <td>9.9</td>\n",
       "      <td>6</td>\n",
       "    </tr>\n",
       "    <tr>\n",
       "      <th>4</th>\n",
       "      <td>7.2</td>\n",
       "      <td>0.23</td>\n",
       "      <td>0.32</td>\n",
       "      <td>8.5</td>\n",
       "      <td>0.058</td>\n",
       "      <td>47.0</td>\n",
       "      <td>186.0</td>\n",
       "      <td>0.99560</td>\n",
       "      <td>3.19</td>\n",
       "      <td>0.40</td>\n",
       "      <td>9.9</td>\n",
       "      <td>6</td>\n",
       "    </tr>\n",
       "    <tr>\n",
       "      <th>...</th>\n",
       "      <td>...</td>\n",
       "      <td>...</td>\n",
       "      <td>...</td>\n",
       "      <td>...</td>\n",
       "      <td>...</td>\n",
       "      <td>...</td>\n",
       "      <td>...</td>\n",
       "      <td>...</td>\n",
       "      <td>...</td>\n",
       "      <td>...</td>\n",
       "      <td>...</td>\n",
       "      <td>...</td>\n",
       "    </tr>\n",
       "    <tr>\n",
       "      <th>4893</th>\n",
       "      <td>6.2</td>\n",
       "      <td>0.21</td>\n",
       "      <td>0.29</td>\n",
       "      <td>1.6</td>\n",
       "      <td>0.039</td>\n",
       "      <td>24.0</td>\n",
       "      <td>92.0</td>\n",
       "      <td>0.99114</td>\n",
       "      <td>3.27</td>\n",
       "      <td>0.50</td>\n",
       "      <td>11.2</td>\n",
       "      <td>6</td>\n",
       "    </tr>\n",
       "    <tr>\n",
       "      <th>4894</th>\n",
       "      <td>6.6</td>\n",
       "      <td>0.32</td>\n",
       "      <td>0.36</td>\n",
       "      <td>8.0</td>\n",
       "      <td>0.047</td>\n",
       "      <td>57.0</td>\n",
       "      <td>168.0</td>\n",
       "      <td>0.99490</td>\n",
       "      <td>3.15</td>\n",
       "      <td>0.46</td>\n",
       "      <td>9.6</td>\n",
       "      <td>5</td>\n",
       "    </tr>\n",
       "    <tr>\n",
       "      <th>4895</th>\n",
       "      <td>6.5</td>\n",
       "      <td>0.24</td>\n",
       "      <td>0.19</td>\n",
       "      <td>1.2</td>\n",
       "      <td>0.041</td>\n",
       "      <td>30.0</td>\n",
       "      <td>111.0</td>\n",
       "      <td>0.99254</td>\n",
       "      <td>2.99</td>\n",
       "      <td>0.46</td>\n",
       "      <td>9.4</td>\n",
       "      <td>6</td>\n",
       "    </tr>\n",
       "    <tr>\n",
       "      <th>4896</th>\n",
       "      <td>5.5</td>\n",
       "      <td>0.29</td>\n",
       "      <td>0.30</td>\n",
       "      <td>1.1</td>\n",
       "      <td>0.022</td>\n",
       "      <td>20.0</td>\n",
       "      <td>110.0</td>\n",
       "      <td>0.98869</td>\n",
       "      <td>3.34</td>\n",
       "      <td>0.38</td>\n",
       "      <td>12.8</td>\n",
       "      <td>7</td>\n",
       "    </tr>\n",
       "    <tr>\n",
       "      <th>4897</th>\n",
       "      <td>6.0</td>\n",
       "      <td>0.21</td>\n",
       "      <td>0.38</td>\n",
       "      <td>0.8</td>\n",
       "      <td>0.020</td>\n",
       "      <td>22.0</td>\n",
       "      <td>98.0</td>\n",
       "      <td>0.98941</td>\n",
       "      <td>3.26</td>\n",
       "      <td>0.32</td>\n",
       "      <td>11.8</td>\n",
       "      <td>6</td>\n",
       "    </tr>\n",
       "  </tbody>\n",
       "</table>\n",
       "<p>4898 rows × 12 columns</p>\n",
       "</div>"
      ],
      "text/plain": [
       "      fixed acidity  volatile acidity  citric acid  residual sugar  chlorides  \\\n",
       "0               7.0              0.27         0.36            20.7      0.045   \n",
       "1               6.3              0.30         0.34             1.6      0.049   \n",
       "2               8.1              0.28         0.40             6.9      0.050   \n",
       "3               7.2              0.23         0.32             8.5      0.058   \n",
       "4               7.2              0.23         0.32             8.5      0.058   \n",
       "...             ...               ...          ...             ...        ...   \n",
       "4893            6.2              0.21         0.29             1.6      0.039   \n",
       "4894            6.6              0.32         0.36             8.0      0.047   \n",
       "4895            6.5              0.24         0.19             1.2      0.041   \n",
       "4896            5.5              0.29         0.30             1.1      0.022   \n",
       "4897            6.0              0.21         0.38             0.8      0.020   \n",
       "\n",
       "      free sulfur dioxide  total sulfur dioxide  density    pH  sulphates  \\\n",
       "0                    45.0                 170.0  1.00100  3.00       0.45   \n",
       "1                    14.0                 132.0  0.99400  3.30       0.49   \n",
       "2                    30.0                  97.0  0.99510  3.26       0.44   \n",
       "3                    47.0                 186.0  0.99560  3.19       0.40   \n",
       "4                    47.0                 186.0  0.99560  3.19       0.40   \n",
       "...                   ...                   ...      ...   ...        ...   \n",
       "4893                 24.0                  92.0  0.99114  3.27       0.50   \n",
       "4894                 57.0                 168.0  0.99490  3.15       0.46   \n",
       "4895                 30.0                 111.0  0.99254  2.99       0.46   \n",
       "4896                 20.0                 110.0  0.98869  3.34       0.38   \n",
       "4897                 22.0                  98.0  0.98941  3.26       0.32   \n",
       "\n",
       "      alcohol  quality  \n",
       "0         8.8        6  \n",
       "1         9.5        6  \n",
       "2        10.1        6  \n",
       "3         9.9        6  \n",
       "4         9.9        6  \n",
       "...       ...      ...  \n",
       "4893     11.2        6  \n",
       "4894      9.6        5  \n",
       "4895      9.4        6  \n",
       "4896     12.8        7  \n",
       "4897     11.8        6  \n",
       "\n",
       "[4898 rows x 12 columns]"
      ]
     },
     "execution_count": 4,
     "metadata": {},
     "output_type": "execute_result"
    }
   ],
   "source": [
    "wine_df = pd.read_csv('winequality-white.csv', sep=';')\n",
    "wine_df"
   ]
  },
  {
   "cell_type": "markdown",
   "id": "c9c298da",
   "metadata": {},
   "source": [
    "### Sampling the data with required columns"
   ]
  },
  {
   "cell_type": "code",
   "execution_count": 5,
   "id": "62ed2e2b",
   "metadata": {},
   "outputs": [
    {
     "name": "stdout",
     "output_type": "stream",
     "text": [
      "Alcohol column:       alcohol\n",
      "0         8.8\n",
      "1         9.5\n",
      "2        10.1\n",
      "3         9.9\n",
      "4         9.9\n",
      "...       ...\n",
      "4893     11.2\n",
      "4894      9.6\n",
      "4895      9.4\n",
      "4896     12.8\n",
      "4897     11.8\n",
      "\n",
      "[4898 rows x 1 columns]\n",
      "Quality column:       quality\n",
      "0           6\n",
      "1           6\n",
      "2           6\n",
      "3           6\n",
      "4           6\n",
      "...       ...\n",
      "4893        6\n",
      "4894        5\n",
      "4895        6\n",
      "4896        7\n",
      "4897        6\n",
      "\n",
      "[4898 rows x 1 columns]\n"
     ]
    }
   ],
   "source": [
    "alcohol_df = wine_df[['alcohol']]\n",
    "quality_df = wine_df[['quality']]\n",
    "\n",
    "print('Alcohol column:', alcohol_df)\n",
    "print('Quality column:', quality_df)"
   ]
  },
  {
   "cell_type": "code",
   "execution_count": 6,
   "id": "a1a2dc3e",
   "metadata": {},
   "outputs": [
    {
     "data": {
      "text/plain": [
       "array([ 8.8       ,  9.5       , 10.1       ,  9.9       ,  9.6       ,\n",
       "       11.        , 12.        ,  9.7       , 10.8       , 12.4       ,\n",
       "       11.4       , 12.8       , 11.3       , 10.5       ,  9.3       ,\n",
       "       10.        , 10.4       , 11.6       , 12.3       , 10.2       ,\n",
       "        9.        , 11.2       ,  8.6       ,  9.4       ,  9.8       ,\n",
       "       11.7       , 10.9       ,  9.1       ,  8.9       , 10.3       ,\n",
       "       12.6       , 10.7       , 12.7       , 10.6       ,  9.2       ,\n",
       "        8.7       , 11.5       , 11.8       , 12.1       , 11.1       ,\n",
       "        8.5       , 12.5       , 11.9       , 12.2       , 12.9       ,\n",
       "       13.9       , 14.        , 13.5       , 13.3       , 13.2       ,\n",
       "       13.7       , 13.4       , 13.        ,  8.        , 13.1       ,\n",
       "       13.6       ,  8.4       , 14.2       , 11.94      , 12.89333333,\n",
       "       11.46666667, 10.98      , 10.03333333, 11.43333333, 10.53333333,\n",
       "        9.53333333, 10.93333333, 11.36666667, 11.33333333, 11.06666667,\n",
       "        9.73333333, 11.05      ,  9.75      , 11.35      ,  9.55      ,\n",
       "       10.55      , 11.45      , 14.05      , 12.33333333, 12.75      ,\n",
       "       13.8       , 12.15      , 13.05      , 11.26666667, 10.56666667,\n",
       "       11.73333333, 11.75      , 10.65      , 10.96666667, 10.13333333,\n",
       "       10.15      , 10.46666667, 11.63333333, 12.25      , 11.85      ,\n",
       "       11.65      , 13.55      , 13.13333333, 11.95      , 12.06666667,\n",
       "       11.55      ,  9.63333333, 12.05      ])"
      ]
     },
     "execution_count": 6,
     "metadata": {},
     "output_type": "execute_result"
    }
   ],
   "source": [
    "wine_df.alcohol.unique()"
   ]
  },
  {
   "cell_type": "code",
   "execution_count": 7,
   "id": "575ba845",
   "metadata": {},
   "outputs": [
    {
     "data": {
      "image/png": "[encoded data removed]",
      "text/plain": [
       "<Figure size 430.375x360 with 1 Axes>"
      ]
     },
     "metadata": {
      "needs_background": "light"
     },
     "output_type": "display_data"
    },
    {
     "data": {
      "image/png": "[encoded data removed]",
      "text/plain": [
       "<Figure size 431.75x360 with 1 Axes>"
      ]
     },
     "metadata": {
      "needs_background": "light"
     },
     "output_type": "display_data"
    }
   ],
   "source": [
    "# Checking distribution of the values\n",
    "\n",
    "sns.displot(quality_df, kde=True, stat='density');\n",
    "\n",
    "sns.displot(alcohol_df, kde=True, stat='density', bins=5);"
   ]
  },
  {
   "cell_type": "code",
   "execution_count": 8,
   "id": "6ea109f3",
   "metadata": {},
   "outputs": [
    {
     "name": "stdout",
     "output_type": "stream",
     "text": [
      "summary of alcohol content:            alcohol\n",
      "count  4898.000000\n",
      "mean     10.514267\n",
      "std       1.230621\n",
      "min       8.000000\n",
      "25%       9.500000\n",
      "50%      10.400000\n",
      "75%      11.400000\n",
      "max      14.200000\n",
      "summary of quality:            quality\n",
      "count  4898.000000\n",
      "mean      5.877909\n",
      "std       0.885639\n",
      "min       3.000000\n",
      "25%       5.000000\n",
      "50%       6.000000\n",
      "75%       6.000000\n",
      "max       9.000000\n"
     ]
    }
   ],
   "source": [
    "# Statistical summary of relevant columns\n",
    "print('summary of alcohol content:', alcohol_df.describe())\n",
    "\n",
    "print('summary of quality:', quality_df.describe())"
   ]
  },
  {
   "cell_type": "markdown",
   "id": "1ae73014",
   "metadata": {},
   "source": [
    "### Resampling the data"
   ]
  },
  {
   "cell_type": "code",
   "execution_count": 9,
   "id": "460d0639",
   "metadata": {},
   "outputs": [
    {
     "data": {
      "text/html": [
       "<div>\n",
       "<style scoped>\n",
       "    .dataframe tbody tr th:only-of-type {\n",
       "        vertical-align: middle;\n",
       "    }\n",
       "\n",
       "    .dataframe tbody tr th {\n",
       "        vertical-align: top;\n",
       "    }\n",
       "\n",
       "    .dataframe thead th {\n",
       "        text-align: right;\n",
       "    }\n",
       "</style>\n",
       "<table border=\"1\" class=\"dataframe\">\n",
       "  <thead>\n",
       "    <tr style=\"text-align: right;\">\n",
       "      <th></th>\n",
       "      <th>fixed acidity</th>\n",
       "      <th>volatile acidity</th>\n",
       "      <th>citric acid</th>\n",
       "      <th>residual sugar</th>\n",
       "      <th>chlorides</th>\n",
       "      <th>free sulfur dioxide</th>\n",
       "      <th>total sulfur dioxide</th>\n",
       "      <th>density</th>\n",
       "      <th>pH</th>\n",
       "      <th>sulphates</th>\n",
       "      <th>alcohol</th>\n",
       "      <th>quality</th>\n",
       "    </tr>\n",
       "  </thead>\n",
       "  <tbody>\n",
       "    <tr>\n",
       "      <th>4656</th>\n",
       "      <td>6.0</td>\n",
       "      <td>0.29</td>\n",
       "      <td>0.41</td>\n",
       "      <td>10.8</td>\n",
       "      <td>0.048</td>\n",
       "      <td>55.0</td>\n",
       "      <td>149.0</td>\n",
       "      <td>0.99370</td>\n",
       "      <td>3.09</td>\n",
       "      <td>0.59</td>\n",
       "      <td>10.966667</td>\n",
       "      <td>7</td>\n",
       "    </tr>\n",
       "    <tr>\n",
       "      <th>3659</th>\n",
       "      <td>5.4</td>\n",
       "      <td>0.53</td>\n",
       "      <td>0.16</td>\n",
       "      <td>2.7</td>\n",
       "      <td>0.036</td>\n",
       "      <td>34.0</td>\n",
       "      <td>128.0</td>\n",
       "      <td>0.98856</td>\n",
       "      <td>3.20</td>\n",
       "      <td>0.53</td>\n",
       "      <td>13.200000</td>\n",
       "      <td>8</td>\n",
       "    </tr>\n",
       "    <tr>\n",
       "      <th>907</th>\n",
       "      <td>7.1</td>\n",
       "      <td>0.25</td>\n",
       "      <td>0.39</td>\n",
       "      <td>2.1</td>\n",
       "      <td>0.036</td>\n",
       "      <td>30.0</td>\n",
       "      <td>124.0</td>\n",
       "      <td>0.99080</td>\n",
       "      <td>3.28</td>\n",
       "      <td>0.43</td>\n",
       "      <td>12.200000</td>\n",
       "      <td>8</td>\n",
       "    </tr>\n",
       "    <tr>\n",
       "      <th>4352</th>\n",
       "      <td>7.3</td>\n",
       "      <td>0.28</td>\n",
       "      <td>0.35</td>\n",
       "      <td>1.6</td>\n",
       "      <td>0.054</td>\n",
       "      <td>31.0</td>\n",
       "      <td>148.0</td>\n",
       "      <td>0.99178</td>\n",
       "      <td>3.18</td>\n",
       "      <td>0.47</td>\n",
       "      <td>10.700000</td>\n",
       "      <td>5</td>\n",
       "    </tr>\n",
       "    <tr>\n",
       "      <th>3271</th>\n",
       "      <td>6.5</td>\n",
       "      <td>0.32</td>\n",
       "      <td>0.34</td>\n",
       "      <td>5.7</td>\n",
       "      <td>0.044</td>\n",
       "      <td>27.0</td>\n",
       "      <td>91.0</td>\n",
       "      <td>0.99184</td>\n",
       "      <td>3.28</td>\n",
       "      <td>0.60</td>\n",
       "      <td>12.000000</td>\n",
       "      <td>7</td>\n",
       "    </tr>\n",
       "    <tr>\n",
       "      <th>...</th>\n",
       "      <td>...</td>\n",
       "      <td>...</td>\n",
       "      <td>...</td>\n",
       "      <td>...</td>\n",
       "      <td>...</td>\n",
       "      <td>...</td>\n",
       "      <td>...</td>\n",
       "      <td>...</td>\n",
       "      <td>...</td>\n",
       "      <td>...</td>\n",
       "      <td>...</td>\n",
       "      <td>...</td>\n",
       "    </tr>\n",
       "    <tr>\n",
       "      <th>2063</th>\n",
       "      <td>7.6</td>\n",
       "      <td>0.18</td>\n",
       "      <td>0.36</td>\n",
       "      <td>2.4</td>\n",
       "      <td>0.049</td>\n",
       "      <td>38.0</td>\n",
       "      <td>123.0</td>\n",
       "      <td>0.99600</td>\n",
       "      <td>3.60</td>\n",
       "      <td>0.46</td>\n",
       "      <td>10.300000</td>\n",
       "      <td>5</td>\n",
       "    </tr>\n",
       "    <tr>\n",
       "      <th>705</th>\n",
       "      <td>8.6</td>\n",
       "      <td>0.27</td>\n",
       "      <td>0.46</td>\n",
       "      <td>6.1</td>\n",
       "      <td>0.032</td>\n",
       "      <td>13.0</td>\n",
       "      <td>41.0</td>\n",
       "      <td>0.99300</td>\n",
       "      <td>2.89</td>\n",
       "      <td>0.34</td>\n",
       "      <td>10.900000</td>\n",
       "      <td>5</td>\n",
       "    </tr>\n",
       "    <tr>\n",
       "      <th>1849</th>\n",
       "      <td>7.0</td>\n",
       "      <td>0.24</td>\n",
       "      <td>0.25</td>\n",
       "      <td>1.7</td>\n",
       "      <td>0.042</td>\n",
       "      <td>48.0</td>\n",
       "      <td>189.0</td>\n",
       "      <td>0.99200</td>\n",
       "      <td>3.25</td>\n",
       "      <td>0.42</td>\n",
       "      <td>11.400000</td>\n",
       "      <td>6</td>\n",
       "    </tr>\n",
       "    <tr>\n",
       "      <th>387</th>\n",
       "      <td>6.3</td>\n",
       "      <td>0.39</td>\n",
       "      <td>0.35</td>\n",
       "      <td>5.9</td>\n",
       "      <td>0.040</td>\n",
       "      <td>82.5</td>\n",
       "      <td>260.0</td>\n",
       "      <td>0.99410</td>\n",
       "      <td>3.12</td>\n",
       "      <td>0.66</td>\n",
       "      <td>10.100000</td>\n",
       "      <td>5</td>\n",
       "    </tr>\n",
       "    <tr>\n",
       "      <th>69</th>\n",
       "      <td>7.4</td>\n",
       "      <td>0.24</td>\n",
       "      <td>0.29</td>\n",
       "      <td>10.1</td>\n",
       "      <td>0.050</td>\n",
       "      <td>21.0</td>\n",
       "      <td>105.0</td>\n",
       "      <td>0.99620</td>\n",
       "      <td>3.13</td>\n",
       "      <td>0.35</td>\n",
       "      <td>9.500000</td>\n",
       "      <td>5</td>\n",
       "    </tr>\n",
       "  </tbody>\n",
       "</table>\n",
       "<p>300 rows × 12 columns</p>\n",
       "</div>"
      ],
      "text/plain": [
       "      fixed acidity  volatile acidity  citric acid  residual sugar  chlorides  \\\n",
       "4656            6.0              0.29         0.41            10.8      0.048   \n",
       "3659            5.4              0.53         0.16             2.7      0.036   \n",
       "907             7.1              0.25         0.39             2.1      0.036   \n",
       "4352            7.3              0.28         0.35             1.6      0.054   \n",
       "3271            6.5              0.32         0.34             5.7      0.044   \n",
       "...             ...               ...          ...             ...        ...   \n",
       "2063            7.6              0.18         0.36             2.4      0.049   \n",
       "705             8.6              0.27         0.46             6.1      0.032   \n",
       "1849            7.0              0.24         0.25             1.7      0.042   \n",
       "387             6.3              0.39         0.35             5.9      0.040   \n",
       "69              7.4              0.24         0.29            10.1      0.050   \n",
       "\n",
       "      free sulfur dioxide  total sulfur dioxide  density    pH  sulphates  \\\n",
       "4656                 55.0                 149.0  0.99370  3.09       0.59   \n",
       "3659                 34.0                 128.0  0.98856  3.20       0.53   \n",
       "907                  30.0                 124.0  0.99080  3.28       0.43   \n",
       "4352                 31.0                 148.0  0.99178  3.18       0.47   \n",
       "3271                 27.0                  91.0  0.99184  3.28       0.60   \n",
       "...                   ...                   ...      ...   ...        ...   \n",
       "2063                 38.0                 123.0  0.99600  3.60       0.46   \n",
       "705                  13.0                  41.0  0.99300  2.89       0.34   \n",
       "1849                 48.0                 189.0  0.99200  3.25       0.42   \n",
       "387                  82.5                 260.0  0.99410  3.12       0.66   \n",
       "69                   21.0                 105.0  0.99620  3.13       0.35   \n",
       "\n",
       "        alcohol  quality  \n",
       "4656  10.966667        7  \n",
       "3659  13.200000        8  \n",
       "907   12.200000        8  \n",
       "4352  10.700000        5  \n",
       "3271  12.000000        7  \n",
       "...         ...      ...  \n",
       "2063  10.300000        5  \n",
       "705   10.900000        5  \n",
       "1849  11.400000        6  \n",
       "387   10.100000        5  \n",
       "69     9.500000        5  \n",
       "\n",
       "[300 rows x 12 columns]"
      ]
     },
     "execution_count": 9,
     "metadata": {},
     "output_type": "execute_result"
    }
   ],
   "source": [
    "sample = wine_df.sample(n=300, random_state=42)\n",
    "sample"
   ]
  },
  {
   "cell_type": "code",
   "execution_count": 10,
   "id": "adda78b6",
   "metadata": {},
   "outputs": [
    {
     "data": {
      "image/png": "[encoded data removed]",
      "text/plain": [
       "<Figure size 360x360 with 1 Axes>"
      ]
     },
     "metadata": {
      "needs_background": "light"
     },
     "output_type": "display_data"
    },
    {
     "data": {
      "image/png": "[encoded data removed]",
      "text/plain": [
       "<Figure size 360x360 with 1 Axes>"
      ]
     },
     "metadata": {
      "needs_background": "light"
     },
     "output_type": "display_data"
    }
   ],
   "source": [
    "# checking for distribution pattern\n",
    "sns.displot(sample['alcohol'], kde=True, stat='density')\n",
    "sns.displot(sample['quality'], kde=True, stat='density');"
   ]
  },
  {
   "cell_type": "code",
   "execution_count": 11,
   "id": "81a7fe4c",
   "metadata": {},
   "outputs": [
    {
     "data": {
      "text/plain": [
       "True"
      ]
     },
     "execution_count": 11,
     "metadata": {},
     "output_type": "execute_result"
    }
   ],
   "source": [
    "high_quality = sample.loc[sample['quality'] >= 6,['alcohol','quality']]\n",
    "\n",
    "low_quality = sample.loc[sample['quality'] <= 5, ['alcohol','quality']]\n",
    "\n",
    "# remove any NaN values from the series\n",
    "high_quality = high_quality.dropna()\n",
    "low_quality = low_quality.dropna()\n",
    "\n",
    "# convert the series to a numeric type\n",
    "high_quality = high_quality.astype('float')\n",
    "low_quality = low_quality.astype('float')\n",
    "\n",
    "# ensure these query included each sample exactly once\n",
    "num_samples = sample.shape[0]\n",
    "num_samples == low_quality['quality'].count() + high_quality['quality'].count()"
   ]
  },
  {
   "cell_type": "code",
   "execution_count": 12,
   "id": "7b158350",
   "metadata": {},
   "outputs": [
    {
     "data": {
      "image/png": "[encoded data removed]",
      "text/plain": [
       "<Figure size 432x288 with 1 Axes>"
      ]
     },
     "metadata": {
      "needs_background": "light"
     },
     "output_type": "display_data"
    }
   ],
   "source": [
    "sns.boxplot(data=low_quality.values );"
   ]
  },
  {
   "cell_type": "code",
   "execution_count": 13,
   "id": "9249fc93",
   "metadata": {},
   "outputs": [
    {
     "data": {
      "image/png": "[encoded data removed]",
      "text/plain": [
       "<Figure size 432x288 with 1 Axes>"
      ]
     },
     "metadata": {
      "needs_background": "light"
     },
     "output_type": "display_data"
    }
   ],
   "source": [
    "sns.boxplot(data=high_quality.values );"
   ]
  },
  {
   "cell_type": "code",
   "execution_count": 14,
   "id": "b61cedd4",
   "metadata": {},
   "outputs": [
    {
     "name": "stdout",
     "output_type": "stream",
     "text": [
      "Overall median of the alcohol content; 10.4\n",
      "Overall mean of the alcohol content; 10.514267047774638\n"
     ]
    }
   ],
   "source": [
    "# overall median of the alcohol content\n",
    "median_alcohol_content = wine_df.alcohol.median()\n",
    "print('Overall median of the alcohol content;', median_alcohol_content)\n",
    "\n",
    "# overall mean of the alcohol content\n",
    "mean_alcohol_content = wine_df.alcohol.mean()\n",
    "print('Overall mean of the alcohol content;', mean_alcohol_content)"
   ]
  },
  {
   "cell_type": "markdown",
   "id": "027ca9d7",
   "metadata": {},
   "source": [
    "## Bartlett's test \n",
    "\n",
    "Bartlett's test is a statistical test used to determine whether the variances of two or more sets of data are equal. In other words, it helps to determine if the differences between the data sets are due to chance or if they are significant."
   ]
  },
  {
   "cell_type": "code",
   "execution_count": 16,
   "id": "802f80bd",
   "metadata": {},
   "outputs": [
    {
     "name": "stdout",
     "output_type": "stream",
     "text": [
      "Bartlett's test statistic =  19.700428929904312\n",
      "p-value =  0.00000905810315759066\n"
     ]
    }
   ],
   "source": [
    "# import bartletts test \n",
    "from scipy.stats import bartlett\n",
    "\n",
    "# subsetting the data \n",
    "high_quality_a = high_quality['alcohol']\n",
    "low_quality_a = low_quality['alcohol']\n",
    "\n",
    "# bartlett's test \n",
    "stat, p = bartlett(high_quality_a, low_quality_a)\n",
    "\n",
    "# display the results\n",
    "print(\"Bartlett's test statistic = \", stat)\n",
    "print(f\"p-value =  {p:.20f}\")"
   ]
  },
  {
   "cell_type": "markdown",
   "id": "66aafbbe",
   "metadata": {},
   "source": [
    "The Bartlett's test was performed and resulted in a test statistic of 19.7 and a p-value of 0.000009. This suggests that there is a significant difference between the variances of the data sets being compared.\n",
    "Based on the results of Bartlett's test indicating significant differences in the variances of the data sets, the next steps would be to explore and analyze the data further to determine the reasons for these differences.\n",
    "Additionally, alternative tests could be considered, such as Welch's test as below:\n"
   ]
  },
  {
   "cell_type": "code",
   "execution_count": 18,
   "id": "73fb1d91",
   "metadata": {},
   "outputs": [
    {
     "name": "stdout",
     "output_type": "stream",
     "text": [
      "The mean for high alcohol content is: 10.830952380952388\n",
      "The mean for low alcohol content is: 9.777319587628869\n",
      "The variance for high alcohol content is: 1.5567641049819267\n",
      "The variance for low alcohol content is: 0.6811469072164947\n",
      "The length for high quality is: 203\n",
      "The length for low quality is: 97\n"
     ]
    }
   ],
   "source": [
    "#alcohol content Statistics\n",
    "# sample means\n",
    "high_a_mean = high_quality_a.mean()\n",
    "low_a_mean = low_quality_a.mean()\n",
    "\n",
    "print(\"The mean for high alcohol content is:\", high_a_mean)\n",
    "print(\"The mean for low alcohol content is:\", low_a_mean)\n",
    "\n",
    "# sample Variances\n",
    "high_a_var = high_quality_a.var()\n",
    "low_a_var = low_quality_a.var()\n",
    "\n",
    "print(\"The variance for high alcohol content is:\", high_a_var)\n",
    "print(\"The variance for low alcohol content is:\", low_a_var)\n",
    "\n",
    "# length of Sample\n",
    "high_alcohol_len = len(high_quality_a)\n",
    "low_alcohol_len = len(low_quality_a)\n",
    "\n",
    "print(\"The length for high quality is:\", high_alcohol_len)\n",
    "print(\"The length for low quality is:\", low_alcohol_len)"
   ]
  },
  {
   "cell_type": "code",
   "execution_count": 19,
   "id": "fa5f9493",
   "metadata": {},
   "outputs": [
    {
     "name": "stdout",
     "output_type": "stream",
     "text": [
      "The t-statistic for the Welch test is: 8.692901453190874\n",
      "The p-value for the Welch test is: 3.5833155962338263e-16\n"
     ]
    }
   ],
   "source": [
    "# Welch's t-test for alcohol content\n",
    "t, p_val = stats.ttest_ind(high_quality_a, low_quality_a, equal_var=False)\n",
    "\n",
    "print(\"The t-statistic for the Welch test is:\", t)\n",
    "print(\"The p-value for the Welch test is:\", p_val)"
   ]
  },
  {
   "cell_type": "code",
   "execution_count": 20,
   "id": "1cf98391",
   "metadata": {},
   "outputs": [
    {
     "name": "stdout",
     "output_type": "stream",
     "text": [
      "Fail to reject the null hypothesis\n"
     ]
    }
   ],
   "source": [
    "alpha = 0.05\n",
    "if p_val.all() < alpha:\n",
    "    print('Reject the null hypothesis')\n",
    "else:\n",
    "    print('Fail to reject the null hypothesis')"
   ]
  },
  {
   "cell_type": "markdown",
   "id": "960feb04",
   "metadata": {},
   "source": [
    "The Welch test was used to compare the mean alcohol content of high-quality and low-quality wines. The t-statistic for the test was 4.4035, which indicates that the difference between the means of the two samples is statistically significant. This means that there is strong evidence to suggest that the alcohol content of high-quality wines is different from that of low-quality wines."
   ]
  },
  {
   "cell_type": "raw",
   "id": "3409ac34",
   "metadata": {},
   "source": [
    "```````IGNORE THIS CELL`````````\n",
    "\n",
    "#Quality  Statistics\n",
    "# sample means\n",
    "high_quality_mean = high_quality['quality'].mean()\n",
    "low_quality_mean = low_quality['quality'].mean()\n",
    "\n",
    "print(\"The mean for high quality is:\", high_quality_mean)\n",
    "print(\"The mean for low quality is:\", low_quality_mean)\n",
    "\n",
    "# sample Variances\n",
    "high_quality_var = high_quality['quality'].var()\n",
    "low_quality_var = low_quality['quality'].var()\n",
    "\n",
    "print(\"The variance for quality is:\", high_quality_var)\n",
    "print(\"The variance for low quality is:\", low_quality_var)\n",
    "\n",
    "# length of Sample\n",
    "high_quality_len = len(high_quality['quality'])\n",
    "low_quality_len = len(low_quality['quality'])\n",
    "\n",
    "print(\"The length for high quality is:\", high_quality_len)\n",
    "print(\"The length for low quality is:\", low_quality_len)"
   ]
  },
  {
   "cell_type": "markdown",
   "id": "ad536acd",
   "metadata": {},
   "source": [
    "## Define the Hypothesis"
   ]
  },
  {
   "cell_type": "markdown",
   "id": "a457801d",
   "metadata": {},
   "source": [
    "##### Null Hypothesis(Ho): There is no difference in the median alcohol content between wines with higher quality rating and wines with low quality rating. \n",
    "\n",
    "##### Alternative Hypothesis(Ha): Wines with higher quality rating have a higher median alcohol content than the wines with a lower quality rating. "
   ]
  },
  {
   "cell_type": "markdown",
   "id": "4d7572bf",
   "metadata": {},
   "source": [
    "## Statistical Test"
   ]
  },
  {
   "cell_type": "markdown",
   "id": "b6b6a0b2",
   "metadata": {},
   "source": [
    "To test the claim that wines with a higher quality rating have a higher median alcohol content than wines with a lower quality rating, we can use a non-parametric test such as the two sample ttest where The null hypothesis for this test is that there is no difference in the means of the two groups. The alternative hypothesis is that the means are different.\n"
   ]
  },
  {
   "cell_type": "code",
   "execution_count": 21,
   "id": "26435388",
   "metadata": {},
   "outputs": [
    {
     "name": "stdout",
     "output_type": "stream",
     "text": [
      "Two-sample t-test:\n",
      "Statistic: 7.560681023136431\n",
      "p-value :  0.00000000000049912028\n"
     ]
    }
   ],
   "source": [
    "# Perform a two-sample t-test to compare the means of the alcohol content for the two groups\n",
    "stat, p_value = ttest_ind(high_quality['alcohol'], low_quality['alcohol'])\n",
    "print('Two-sample t-test:')\n",
    "print('Statistic:', stat)\n",
    "print(f\"p-value :  {p_value:.20f}\")\n"
   ]
  },
  {
   "cell_type": "code",
   "execution_count": 22,
   "id": "14c87872",
   "metadata": {},
   "outputs": [
    {
     "name": "stdout",
     "output_type": "stream",
     "text": [
      "Fail to reject the null hypothesis\n"
     ]
    }
   ],
   "source": [
    "alpha = 0.05\n",
    "if p_value.all() < alpha:\n",
    "    print('Reject the null hypothesis')\n",
    "else:\n",
    "    print('Fail to reject the null hypothesis')"
   ]
  },
  {
   "cell_type": "markdown",
   "id": "6d98c88b",
   "metadata": {},
   "source": [
    "## Findings\n",
    "\n",
    "Therefore, we can reject the null hypothesis and conclude that there is a significant difference in the means of the alcohol content for high and low quality wines. Specifically, high quality wines have a significantly higher mean alcohol content than low quality wines."
   ]
  },
  {
   "cell_type": "code",
   "execution_count": null,
   "id": "aa06f1a8",
   "metadata": {},
   "outputs": [],
   "source": []
  }
 ],
 "metadata": {
  "kernelspec": {
   "display_name": "Python 3 (ipykernel)",
   "language": "python",
   "name": "python3"
  },
  "language_info": {
   "codemirror_mode": {
    "name": "ipython",
    "version": 3
   },
   "file_extension": ".py",
   "mimetype": "text/x-python",
   "name": "python",
   "nbconvert_exporter": "python",
   "pygments_lexer": "ipython3",
   "version": "3.9.7"
  }
 },
 "nbformat": 4,
 "nbformat_minor": 5
}
