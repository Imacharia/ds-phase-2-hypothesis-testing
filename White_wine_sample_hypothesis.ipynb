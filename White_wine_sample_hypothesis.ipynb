{
 "cells": [
  {
   "cell_type": "markdown",
   "id": "517ef1c9",
   "metadata": {},
   "source": [
    "# Chemsha Bongo; Hypothesis Testing "
   ]
  },
  {
   "cell_type": "markdown",
   "id": "2f2a112e",
   "metadata": {},
   "source": [
    "Using the  ```Wine Quality Dataset```, test the claim that Wines with a higher quality rating have a higher median alcohol content than wines with a lower quality rating."
   ]
  },
  {
   "cell_type": "code",
   "execution_count": null,
   "id": "f4c14ae6",
   "metadata": {},
   "outputs": [],
   "source": [
    "import numpy as np\n",
    "import pandas as pd\n",
    "import seaborn as sns\n",
    "import matplotlib.pyplot as plt\n",
    "from scipy import stats\n",
    "from scipy.stats import ttest_ind\n",
    "from scipy.stats import median_test"
   ]
  },
  {
   "cell_type": "markdown",
   "id": "9274f037",
   "metadata": {},
   "source": [
    "# Scientific Question"
   ]
  },
  {
   "cell_type": "markdown",
   "id": "76c30c48",
   "metadata": {},
   "source": [
    "##### What is the relationship between wine quality rating and median alcohol content in the Wine Quality Dataset, and is there evidence to support the claim that wines with a higher quality rating have a higher median alcohol content than wines with a lower quality rating?"
   ]
  },
  {
   "cell_type": "markdown",
   "id": "f32e83d2",
   "metadata": {},
   "source": [
    "### Data Understanding"
   ]
  },
  {
   "cell_type": "markdown",
   "id": "2abaa628",
   "metadata": {},
   "source": [
    "#### Reading the data"
   ]
  },
  {
   "cell_type": "code",
   "execution_count": null,
   "id": "a478ef56",
   "metadata": {},
   "outputs": [],
   "source": [
    "wine_df = pd.read_csv('Data/winequality-white.csv', sep=';')\n",
    "wine_df"
   ]
  },
  {
   "cell_type": "markdown",
   "id": "c9c298da",
   "metadata": {},
   "source": [
    "### Sampling the data with required columns"
   ]
  },
  {
   "cell_type": "code",
   "execution_count": null,
   "id": "62ed2e2b",
   "metadata": {},
   "outputs": [],
   "source": [
    "alcohol_df = wine_df[['alcohol']]\n",
    "quality_df = wine_df[['quality']]\n",
    "\n",
    "print('Alcohol column:', alcohol_df)\n",
    "print('Quality column:', quality_df)"
   ]
  },
  {
   "cell_type": "code",
   "execution_count": null,
   "id": "a1a2dc3e",
   "metadata": {},
   "outputs": [],
   "source": [
    "wine_df.alcohol.unique()"
   ]
  },
  {
   "cell_type": "code",
   "execution_count": null,
   "id": "575ba845",
   "metadata": {},
   "outputs": [],
   "source": [
    "# Checking distribution of the values\n",
    "\n",
    "sns.displot(quality_df, kde=True, stat='density');\n",
    "\n",
    "sns.displot(alcohol_df, kde=True, stat='density', bins=5);"
   ]
  },
  {
   "cell_type": "code",
   "execution_count": null,
   "id": "6ea109f3",
   "metadata": {},
   "outputs": [],
   "source": [
    "# Statistical summary of relevant columns\n",
    "print('summary of alcohol content:', alcohol_df.describe())\n",
    "\n",
    "print('summary of quality:', quality_df.describe())"
   ]
  },
  {
   "cell_type": "markdown",
   "id": "1ae73014",
   "metadata": {},
   "source": [
    "### Resampling the data"
   ]
  },
  {
   "cell_type": "code",
   "execution_count": null,
   "id": "460d0639",
   "metadata": {},
   "outputs": [],
   "source": [
    "sample = wine_df.sample(n=300, random_state=42)\n",
    "sample"
   ]
  },
  {
   "cell_type": "code",
   "execution_count": null,
   "id": "adda78b6",
   "metadata": {},
   "outputs": [],
   "source": [
    "# checking for distribution pattern\n",
    "sns.displot(sample['alcohol'], kde=True, stat='density')\n",
    "sns.displot(sample['quality'], kde=True, stat='density');"
   ]
  },
  {
   "cell_type": "code",
   "execution_count": null,
   "id": "81a7fe4c",
   "metadata": {},
   "outputs": [],
   "source": [
    "high_quality = sample.loc[sample['quality'] >= 6,['alcohol','quality']]\n",
    "\n",
    "low_quality = sample.loc[sample['quality'] <= 5, ['alcohol','quality']]\n",
    "\n",
    "# remove any NaN values from the series\n",
    "high_quality = high_quality.dropna()\n",
    "low_quality = low_quality.dropna()\n",
    "\n",
    "# convert the series to a numeric type\n",
    "high_quality = high_quality.astype('float')\n",
    "low_quality = low_quality.astype('float')\n",
    "\n",
    "# ensure these query included each sample exactly once\n",
    "num_samples = sample.shape[0]\n",
    "num_samples == low_quality['quality'].count() + high_quality['quality'].count()"
   ]
  },
  {
   "cell_type": "code",
   "execution_count": null,
   "id": "7b158350",
   "metadata": {},
   "outputs": [],
   "source": [
    "sns.boxplot(data=low_quality.values );"
   ]
  },
  {
   "cell_type": "code",
   "execution_count": null,
   "id": "9249fc93",
   "metadata": {},
   "outputs": [],
   "source": [
    "sns.boxplot(data=high_quality.values );"
   ]
  },
  {
   "cell_type": "code",
   "execution_count": null,
   "id": "b61cedd4",
   "metadata": {},
   "outputs": [],
   "source": [
    "# overall median of the alcohol content\n",
    "median_alcohol_content = wine_df.alcohol.median()\n",
    "print('Overall median of the alcohol content;', median_alcohol_content)\n",
    "\n",
    "# overall mean of the alcohol content\n",
    "mean_alcohol_content = wine_df.alcohol.mean()\n",
    "print('Overall mean of the alcohol content;', mean_alcohol_content)"
   ]
  },
  {
   "cell_type": "markdown",
   "id": "027ca9d7",
   "metadata": {},
   "source": [
    "## Bartlett's test \n",
    "\n",
    "Bartlett's test is a statistical test used to determine whether the variances of two or more sets of data are equal. In other words, it helps to determine if the differences between the data sets are due to chance or if they are significant."
   ]
  },
  {
   "cell_type": "code",
   "execution_count": null,
   "id": "802f80bd",
   "metadata": {},
   "outputs": [],
   "source": [
    "# import bartletts test \n",
    "from scipy.stats import bartlett\n",
    "\n",
    "# subsetting the data \n",
    "high_quality_a = high_quality['alcohol']\n",
    "low_quality_a = low_quality['alcohol']\n",
    "\n",
    "# bartlett's test \n",
    "stat, p = bartlett(high_quality_f, low_quality_f)\n",
    "\n",
    "# display the results\n",
    "print(\"Bartlett's test statistic = \", stat)\n",
    "print(f\"p-value =  {p:.20f}\")"
   ]
  },
  {
   "cell_type": "markdown",
   "id": "66aafbbe",
   "metadata": {},
   "source": [
    "The Bartlett's test was performed and resulted in a test statistic of 19.7 and a p-value of 0.000009. This suggests that there is a significant difference between the variances of the data sets being compared.\n",
    "Based on the results of Bartlett's test indicating significant differences in the variances of the data sets, the next steps would be to explore and analyze the data further to determine the reasons for these differences.\n",
    "Additionally, alternative tests could be considered, such as Welch's test as below:\n"
   ]
  },
  {
   "cell_type": "code",
   "execution_count": null,
   "id": "73fb1d91",
   "metadata": {},
   "outputs": [],
   "source": [
    "#alcohol content Statistics\n",
    "# sample means\n",
    "high_a_mean = high_quality_a.mean()\n",
    "low_a_mean = low_quality_a.mean()\n",
    "\n",
    "print(\"The mean for high alcohol content is:\", high_mean)\n",
    "print(\"The mean for low alcohol content is:\", low_mean)\n",
    "\n",
    "# sample Variances\n",
    "high_a_var = high_quality_a.var()\n",
    "low_a_var = low_quality_a.var()\n",
    "\n",
    "print(\"The variance for high alcohol content is:\", high_a_var)\n",
    "print(\"The variance for low alcohol content is:\", low_a_var)\n",
    "\n",
    "# length of Sample\n",
    "high_alcohol_len = len(high_quality_a)\n",
    "low_alcohol_len = len(low_quality_a)\n",
    "\n",
    "print(\"The length for high quality is:\", high_alcohol_len)\n",
    "print(\"The length for low quality is:\", low_alcohol_len)"
   ]
  },
  {
   "cell_type": "code",
   "execution_count": null,
   "id": "fa5f9493",
   "metadata": {},
   "outputs": [],
   "source": [
    "# Welch's t-test for alcohol content\n",
    "t, p_val = stats.ttest_ind(high_quality_a, low_quality_a, equal_var=False)\n",
    "\n",
    "print(\"The t-statistic for the Welch test is:\", t)\n",
    "print(\"The p-value for the Welch test is:\", p_val)"
   ]
  },
  {
   "cell_type": "code",
   "execution_count": null,
   "id": "1cf98391",
   "metadata": {},
   "outputs": [],
   "source": [
    "alpha = 0.05\n",
    "if p_val.all() < alpha:\n",
    "    print('Reject the null hypothesis')\n",
    "else:\n",
    "    print('Fail to reject the null hypothesis')"
   ]
  },
  {
   "cell_type": "markdown",
   "id": "960feb04",
   "metadata": {},
   "source": [
    "The Welch test was used to compare the mean alcohol content of high-quality and low-quality wines. The t-statistic for the test was 4.4035, which indicates that the difference between the means of the two samples is statistically significant. This means that there is strong evidence to suggest that the alcohol content of high-quality wines is different from that of low-quality wines."
   ]
  },
  {
   "cell_type": "raw",
   "id": "3409ac34",
   "metadata": {},
   "source": [
    "```````IGNORE THIS CELL`````````\n",
    "\n",
    "#Quality  Statistics\n",
    "# sample means\n",
    "high_quality_mean = high_quality['quality'].mean()\n",
    "low_quality_mean = low_quality['quality'].mean()\n",
    "\n",
    "print(\"The mean for high quality is:\", high_quality_mean)\n",
    "print(\"The mean for low quality is:\", low_quality_mean)\n",
    "\n",
    "# sample Variances\n",
    "high_quality_var = high_quality['quality'].var()\n",
    "low_quality_var = low_quality['quality'].var()\n",
    "\n",
    "print(\"The variance for quality is:\", high_quality_var)\n",
    "print(\"The variance for low quality is:\", low_quality_var)\n",
    "\n",
    "# length of Sample\n",
    "high_quality_len = len(high_quality['quality'])\n",
    "low_quality_len = len(low_quality['quality'])\n",
    "\n",
    "print(\"The length for high quality is:\", high_quality_len)\n",
    "print(\"The length for low quality is:\", low_quality_len)"
   ]
  },
  {
   "cell_type": "markdown",
   "id": "ad536acd",
   "metadata": {},
   "source": [
    "## Define the Hypothesis"
   ]
  },
  {
   "cell_type": "markdown",
   "id": "a457801d",
   "metadata": {},
   "source": [
    "##### Null Hypothesis(Ho): There is no difference in the median alcohol content between wines with higher quality rating and wines with low quality rating. \n",
    "\n",
    "##### Alternative Hypothesis(Ha): Wines with higher quality rating have a higher median alcohol content than the wines with a lower quality rating. "
   ]
  },
  {
   "cell_type": "markdown",
   "id": "4d7572bf",
   "metadata": {},
   "source": [
    "## Statistical Test"
   ]
  },
  {
   "cell_type": "markdown",
   "id": "b6b6a0b2",
   "metadata": {},
   "source": [
    "To test the claim that wines with a higher quality rating have a higher median alcohol content than wines with a lower quality rating, we can use a non-parametric test such as the two sample ttest where The null hypothesis for this test is that there is no difference in the means of the two groups. The alternative hypothesis is that the means are different.\n"
   ]
  },
  {
   "cell_type": "code",
   "execution_count": null,
   "id": "26435388",
   "metadata": {},
   "outputs": [],
   "source": [
    "# Perform a two-sample t-test to compare the means of the alcohol content for the two groups\n",
    "stat, p_value = ttest_ind(high_quality['alcohol'], low_quality['alcohol'])\n",
    "print('Two-sample t-test:')\n",
    "print('Statistic:', stat)\n",
    "print(f\"p-value :  {p_value:.20f}\")\n"
   ]
  },
  {
   "cell_type": "code",
   "execution_count": null,
   "id": "14c87872",
   "metadata": {},
   "outputs": [],
   "source": [
    "alpha = 0.05\n",
    "if p_value.all() < alpha:\n",
    "    print('Reject the null hypothesis')\n",
    "else:\n",
    "    print('Fail to reject the null hypothesis')"
   ]
  },
  {
   "cell_type": "markdown",
   "id": "6d98c88b",
   "metadata": {},
   "source": [
    "## Findings\n",
    "\n",
    "Therefore, we can reject the null hypothesis and conclude that there is a significant difference in the means of the alcohol content for high and low quality wines. Specifically, high quality wines have a significantly higher mean alcohol content than low quality wines."
   ]
  },
  {
   "cell_type": "code",
   "execution_count": null,
   "id": "aa06f1a8",
   "metadata": {},
   "outputs": [],
   "source": []
  }
 ],
 "metadata": {
  "kernelspec": {
   "display_name": "Python 3 (ipykernel)",
   "language": "python",
   "name": "python3"
  },
  "language_info": {
   "codemirror_mode": {
    "name": "ipython",
    "version": 3
   },
   "file_extension": ".py",
   "mimetype": "text/x-python",
   "name": "python",
   "nbconvert_exporter": "python",
   "pygments_lexer": "ipython3",
   "version": "3.9.7"
  }
 },
 "nbformat": 4,
 "nbformat_minor": 5
}
